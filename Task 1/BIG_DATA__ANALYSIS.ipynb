{
  "nbformat": 4,
  "nbformat_minor": 0,
  "metadata": {
    "colab": {
      "provenance": []
    },
    "kernelspec": {
      "name": "python3",
      "display_name": "Python 3"
    },
    "language_info": {
      "name": "python"
    }
  },
  "cells": [
    {
      "cell_type": "code",
      "execution_count": 1,
      "metadata": {
        "colab": {
          "base_uri": "https://localhost:8080/"
        },
        "collapsed": true,
        "id": "vJkADXOpa3KP",
        "outputId": "80cc6a3f-1066-4170-9312-cf382df860e6"
      },
      "outputs": [
        {
          "output_type": "stream",
          "name": "stdout",
          "text": [
            "Reading package lists... Done\n",
            "Building dependency tree... Done\n",
            "Reading state information... Done\n",
            "The following additional packages will be installed:\n",
            "  fonts-dejavu-core fonts-dejavu-extra libatk-wrapper-java libatk-wrapper-java-jni libfontenc1\n",
            "  libxkbfile1 libxt-dev libxtst6 libxxf86dga1 openjdk-11-jre x11-utils\n",
            "Suggested packages:\n",
            "  libxt-doc openjdk-11-demo openjdk-11-source visualvm mesa-utils\n",
            "The following NEW packages will be installed:\n",
            "  fonts-dejavu-core fonts-dejavu-extra libatk-wrapper-java libatk-wrapper-java-jni libfontenc1\n",
            "  libxkbfile1 libxt-dev libxtst6 libxxf86dga1 openjdk-11-jdk openjdk-11-jre x11-utils\n",
            "0 upgraded, 12 newly installed, 0 to remove and 29 not upgraded.\n",
            "Need to get 5,453 kB of archives.\n",
            "After this operation, 15.5 MB of additional disk space will be used.\n",
            "Get:1 http://archive.ubuntu.com/ubuntu jammy/main amd64 fonts-dejavu-core all 2.37-2build1 [1,041 kB]\n",
            "Get:2 http://archive.ubuntu.com/ubuntu jammy/main amd64 fonts-dejavu-extra all 2.37-2build1 [2,041 kB]\n",
            "Get:3 http://archive.ubuntu.com/ubuntu jammy/main amd64 libfontenc1 amd64 1:1.1.4-1build3 [14.7 kB]\n",
            "Get:4 http://archive.ubuntu.com/ubuntu jammy/main amd64 libxkbfile1 amd64 1:1.1.0-1build3 [71.8 kB]\n",
            "Get:5 http://archive.ubuntu.com/ubuntu jammy/main amd64 libxtst6 amd64 2:1.2.3-1build4 [13.4 kB]\n",
            "Get:6 http://archive.ubuntu.com/ubuntu jammy/main amd64 libxxf86dga1 amd64 2:1.1.5-0ubuntu3 [12.6 kB]\n",
            "Get:7 http://archive.ubuntu.com/ubuntu jammy/main amd64 x11-utils amd64 7.7+5build2 [206 kB]\n",
            "Get:8 http://archive.ubuntu.com/ubuntu jammy/main amd64 libatk-wrapper-java all 0.38.0-5build1 [53.1 kB]\n",
            "Get:9 http://archive.ubuntu.com/ubuntu jammy/main amd64 libatk-wrapper-java-jni amd64 0.38.0-5build1 [49.0 kB]\n",
            "Get:10 http://archive.ubuntu.com/ubuntu jammy/main amd64 libxt-dev amd64 1:1.2.1-1 [396 kB]\n",
            "Get:11 http://archive.ubuntu.com/ubuntu jammy-updates/main amd64 openjdk-11-jre amd64 11.0.26+4-1ubuntu1~22.04 [214 kB]\n",
            "Get:12 http://archive.ubuntu.com/ubuntu jammy-updates/main amd64 openjdk-11-jdk amd64 11.0.26+4-1ubuntu1~22.04 [1,341 kB]\n",
            "Fetched 5,453 kB in 2s (3,154 kB/s)\n",
            "Selecting previously unselected package fonts-dejavu-core.\n",
            "(Reading database ... 126209 files and directories currently installed.)\n",
            "Preparing to unpack .../00-fonts-dejavu-core_2.37-2build1_all.deb ...\n",
            "Unpacking fonts-dejavu-core (2.37-2build1) ...\n",
            "Selecting previously unselected package fonts-dejavu-extra.\n",
            "Preparing to unpack .../01-fonts-dejavu-extra_2.37-2build1_all.deb ...\n",
            "Unpacking fonts-dejavu-extra (2.37-2build1) ...\n",
            "Selecting previously unselected package libfontenc1:amd64.\n",
            "Preparing to unpack .../02-libfontenc1_1%3a1.1.4-1build3_amd64.deb ...\n",
            "Unpacking libfontenc1:amd64 (1:1.1.4-1build3) ...\n",
            "Selecting previously unselected package libxkbfile1:amd64.\n",
            "Preparing to unpack .../03-libxkbfile1_1%3a1.1.0-1build3_amd64.deb ...\n",
            "Unpacking libxkbfile1:amd64 (1:1.1.0-1build3) ...\n",
            "Selecting previously unselected package libxtst6:amd64.\n",
            "Preparing to unpack .../04-libxtst6_2%3a1.2.3-1build4_amd64.deb ...\n",
            "Unpacking libxtst6:amd64 (2:1.2.3-1build4) ...\n",
            "Selecting previously unselected package libxxf86dga1:amd64.\n",
            "Preparing to unpack .../05-libxxf86dga1_2%3a1.1.5-0ubuntu3_amd64.deb ...\n",
            "Unpacking libxxf86dga1:amd64 (2:1.1.5-0ubuntu3) ...\n",
            "Selecting previously unselected package x11-utils.\n",
            "Preparing to unpack .../06-x11-utils_7.7+5build2_amd64.deb ...\n",
            "Unpacking x11-utils (7.7+5build2) ...\n",
            "Selecting previously unselected package libatk-wrapper-java.\n",
            "Preparing to unpack .../07-libatk-wrapper-java_0.38.0-5build1_all.deb ...\n",
            "Unpacking libatk-wrapper-java (0.38.0-5build1) ...\n",
            "Selecting previously unselected package libatk-wrapper-java-jni:amd64.\n",
            "Preparing to unpack .../08-libatk-wrapper-java-jni_0.38.0-5build1_amd64.deb ...\n",
            "Unpacking libatk-wrapper-java-jni:amd64 (0.38.0-5build1) ...\n",
            "Selecting previously unselected package libxt-dev:amd64.\n",
            "Preparing to unpack .../09-libxt-dev_1%3a1.2.1-1_amd64.deb ...\n",
            "Unpacking libxt-dev:amd64 (1:1.2.1-1) ...\n",
            "Selecting previously unselected package openjdk-11-jre:amd64.\n",
            "Preparing to unpack .../10-openjdk-11-jre_11.0.26+4-1ubuntu1~22.04_amd64.deb ...\n",
            "Unpacking openjdk-11-jre:amd64 (11.0.26+4-1ubuntu1~22.04) ...\n",
            "Selecting previously unselected package openjdk-11-jdk:amd64.\n",
            "Preparing to unpack .../11-openjdk-11-jdk_11.0.26+4-1ubuntu1~22.04_amd64.deb ...\n",
            "Unpacking openjdk-11-jdk:amd64 (11.0.26+4-1ubuntu1~22.04) ...\n",
            "Setting up libxtst6:amd64 (2:1.2.3-1build4) ...\n",
            "Setting up libxxf86dga1:amd64 (2:1.1.5-0ubuntu3) ...\n",
            "Setting up openjdk-11-jre:amd64 (11.0.26+4-1ubuntu1~22.04) ...\n",
            "Setting up libfontenc1:amd64 (1:1.1.4-1build3) ...\n",
            "Setting up libxt-dev:amd64 (1:1.2.1-1) ...\n",
            "Setting up fonts-dejavu-core (2.37-2build1) ...\n",
            "Setting up fonts-dejavu-extra (2.37-2build1) ...\n",
            "Setting up openjdk-11-jdk:amd64 (11.0.26+4-1ubuntu1~22.04) ...\n",
            "update-alternatives: using /usr/lib/jvm/java-11-openjdk-amd64/bin/jconsole to provide /usr/bin/jconsole (jconsole) in auto mode\n",
            "Setting up libxkbfile1:amd64 (1:1.1.0-1build3) ...\n",
            "Setting up x11-utils (7.7+5build2) ...\n",
            "Setting up libatk-wrapper-java (0.38.0-5build1) ...\n",
            "Setting up libatk-wrapper-java-jni:amd64 (0.38.0-5build1) ...\n",
            "Processing triggers for fontconfig (2.13.1-4.2ubuntu5) ...\n",
            "Processing triggers for hicolor-icon-theme (0.17-2) ...\n",
            "Processing triggers for libc-bin (2.35-0ubuntu3.8) ...\n",
            "/sbin/ldconfig.real: /usr/local/lib/libhwloc.so.15 is not a symbolic link\n",
            "\n",
            "/sbin/ldconfig.real: /usr/local/lib/libtcm.so.1 is not a symbolic link\n",
            "\n",
            "/sbin/ldconfig.real: /usr/local/lib/libtbbmalloc_proxy.so.2 is not a symbolic link\n",
            "\n",
            "/sbin/ldconfig.real: /usr/local/lib/libtbbbind_2_0.so.3 is not a symbolic link\n",
            "\n",
            "/sbin/ldconfig.real: /usr/local/lib/libtbbmalloc.so.2 is not a symbolic link\n",
            "\n",
            "/sbin/ldconfig.real: /usr/local/lib/libtbb.so.12 is not a symbolic link\n",
            "\n",
            "/sbin/ldconfig.real: /usr/local/lib/libur_adapter_opencl.so.0 is not a symbolic link\n",
            "\n",
            "/sbin/ldconfig.real: /usr/local/lib/libtbbbind.so.3 is not a symbolic link\n",
            "\n",
            "/sbin/ldconfig.real: /usr/local/lib/libtcm_debug.so.1 is not a symbolic link\n",
            "\n",
            "/sbin/ldconfig.real: /usr/local/lib/libur_adapter_level_zero.so.0 is not a symbolic link\n",
            "\n",
            "/sbin/ldconfig.real: /usr/local/lib/libur_loader.so.0 is not a symbolic link\n",
            "\n",
            "/sbin/ldconfig.real: /usr/local/lib/libumf.so.0 is not a symbolic link\n",
            "\n",
            "/sbin/ldconfig.real: /usr/local/lib/libtbbbind_2_5.so.3 is not a symbolic link\n",
            "\n",
            "Processing triggers for man-db (2.10.2-1) ...\n",
            "Processing triggers for mailcap (3.70+nmu1ubuntu1) ...\n",
            "Requirement already satisfied: pyspark in /usr/local/lib/python3.11/dist-packages (3.5.5)\n",
            "Requirement already satisfied: py4j==0.10.9.7 in /usr/local/lib/python3.11/dist-packages (from pyspark) (0.10.9.7)\n"
          ]
        }
      ],
      "source": [
        "!apt-get install openjdk-11-jdk -y\n",
        "!pip install pyspark\n"
      ]
    },
    {
      "cell_type": "code",
      "source": [
        "!pip install kaggle\n"
      ],
      "metadata": {
        "colab": {
          "base_uri": "https://localhost:8080/"
        },
        "collapsed": true,
        "id": "BjfT8F6Qb13F",
        "outputId": "3ee84ec0-13ac-4255-ecf6-af5eccb87f39"
      },
      "execution_count": 3,
      "outputs": [
        {
          "output_type": "stream",
          "name": "stdout",
          "text": [
            "Requirement already satisfied: kaggle in /usr/local/lib/python3.11/dist-packages (1.7.4.2)\n",
            "Requirement already satisfied: bleach in /usr/local/lib/python3.11/dist-packages (from kaggle) (6.2.0)\n",
            "Requirement already satisfied: certifi>=14.05.14 in /usr/local/lib/python3.11/dist-packages (from kaggle) (2025.1.31)\n",
            "Requirement already satisfied: charset-normalizer in /usr/local/lib/python3.11/dist-packages (from kaggle) (3.4.1)\n",
            "Requirement already satisfied: idna in /usr/local/lib/python3.11/dist-packages (from kaggle) (3.10)\n",
            "Requirement already satisfied: protobuf in /usr/local/lib/python3.11/dist-packages (from kaggle) (5.29.4)\n",
            "Requirement already satisfied: python-dateutil>=2.5.3 in /usr/local/lib/python3.11/dist-packages (from kaggle) (2.8.2)\n",
            "Requirement already satisfied: python-slugify in /usr/local/lib/python3.11/dist-packages (from kaggle) (8.0.4)\n",
            "Requirement already satisfied: requests in /usr/local/lib/python3.11/dist-packages (from kaggle) (2.32.3)\n",
            "Requirement already satisfied: setuptools>=21.0.0 in /usr/local/lib/python3.11/dist-packages (from kaggle) (75.1.0)\n",
            "Requirement already satisfied: six>=1.10 in /usr/local/lib/python3.11/dist-packages (from kaggle) (1.17.0)\n",
            "Requirement already satisfied: text-unidecode in /usr/local/lib/python3.11/dist-packages (from kaggle) (1.3)\n",
            "Requirement already satisfied: tqdm in /usr/local/lib/python3.11/dist-packages (from kaggle) (4.67.1)\n",
            "Requirement already satisfied: urllib3>=1.15.1 in /usr/local/lib/python3.11/dist-packages (from kaggle) (2.3.0)\n",
            "Requirement already satisfied: webencodings in /usr/local/lib/python3.11/dist-packages (from kaggle) (0.5.1)\n"
          ]
        }
      ]
    },
    {
      "cell_type": "code",
      "source": [
        "!mkdir -p ~/.kaggle\n",
        "!mv kaggle.json ~/.kaggle/\n",
        "!chmod 600 ~/.kaggle/kaggle.json  # Set permissions\n"
      ],
      "metadata": {
        "id": "x6RN32vbb6b8"
      },
      "execution_count": 4,
      "outputs": []
    },
    {
      "cell_type": "code",
      "source": [
        "#!/bin/bash\n",
        "!kaggle datasets download elemento/nyc-yellow-taxi-trip-data"
      ],
      "metadata": {
        "colab": {
          "base_uri": "https://localhost:8080/"
        },
        "id": "hVJvAeHtbTFc",
        "outputId": "cf5835d4-a7d2-478b-ef86-8bcb51964db5"
      },
      "execution_count": 5,
      "outputs": [
        {
          "output_type": "stream",
          "name": "stdout",
          "text": [
            "Dataset URL: https://www.kaggle.com/datasets/elemento/nyc-yellow-taxi-trip-data\n",
            "License(s): U.S. Government Works\n"
          ]
        }
      ]
    },
    {
      "cell_type": "code",
      "source": [
        "!unzip nyc-yellow-taxi-trip-data.zip -d /content/\n"
      ],
      "metadata": {
        "colab": {
          "base_uri": "https://localhost:8080/"
        },
        "id": "CnAXrl9Sbn9e",
        "outputId": "b475ede4-4fd1-400c-8874-998013bf7269"
      },
      "execution_count": 6,
      "outputs": [
        {
          "output_type": "stream",
          "name": "stdout",
          "text": [
            "Archive:  nyc-yellow-taxi-trip-data.zip\n",
            "  inflating: /content/yellow_tripdata_2015-01.csv  \n",
            "  inflating: /content/yellow_tripdata_2016-01.csv  \n",
            "  inflating: /content/yellow_tripdata_2016-02.csv  \n",
            "  inflating: /content/yellow_tripdata_2016-03.csv  \n"
          ]
        }
      ]
    },
    {
      "cell_type": "code",
      "source": [
        "from pyspark.sql import SparkSession\n",
        "\n",
        "# Create a Spark session\n",
        "spark = SparkSession.builder.appName(\"NYC_Taxi_Analysis\").getOrCreate()\n"
      ],
      "metadata": {
        "id": "WiP1IdNlcKfI"
      },
      "execution_count": 7,
      "outputs": []
    },
    {
      "cell_type": "code",
      "source": [
        "df = spark.read.csv(\"/content/yellow_tripdata_2016-01.csv\", header=True, inferSchema=True)\n",
        "\n",
        "# Show first 5 rows\n",
        "df.show(5)\n"
      ],
      "metadata": {
        "colab": {
          "base_uri": "https://localhost:8080/"
        },
        "id": "SlDv2LHzcmYF",
        "outputId": "a604aadd-8568-4a80-a370-d614a8259bfa"
      },
      "execution_count": 8,
      "outputs": [
        {
          "output_type": "stream",
          "name": "stdout",
          "text": [
            "+--------+--------------------+---------------------+---------------+-------------+------------------+------------------+----------+------------------+------------------+------------------+------------+-----------+-----+-------+----------+------------+---------------------+------------+\n",
            "|VendorID|tpep_pickup_datetime|tpep_dropoff_datetime|passenger_count|trip_distance|  pickup_longitude|   pickup_latitude|RatecodeID|store_and_fwd_flag| dropoff_longitude|  dropoff_latitude|payment_type|fare_amount|extra|mta_tax|tip_amount|tolls_amount|improvement_surcharge|total_amount|\n",
            "+--------+--------------------+---------------------+---------------+-------------+------------------+------------------+----------+------------------+------------------+------------------+------------+-----------+-----+-------+----------+------------+---------------------+------------+\n",
            "|       2| 2016-01-01 00:00:00|  2016-01-01 00:00:00|              2|          1.1|-73.99037170410156| 40.73469543457031|         1|                 N|-73.98184204101562| 40.73240661621094|           2|        7.5|  0.5|    0.5|       0.0|         0.0|                  0.3|         8.8|\n",
            "|       2| 2016-01-01 00:00:00|  2016-01-01 00:00:00|              5|          4.9|-73.98078155517578| 40.72991180419922|         1|                 N|-73.94447326660156|40.716678619384766|           1|       18.0|  0.5|    0.5|       0.0|         0.0|                  0.3|        19.3|\n",
            "|       2| 2016-01-01 00:00:00|  2016-01-01 00:00:00|              1|        10.54|-73.98455047607422|  40.6795654296875|         1|                 N|-73.95027160644531| 40.78892517089844|           1|       33.0|  0.5|    0.5|       0.0|         0.0|                  0.3|        34.3|\n",
            "|       2| 2016-01-01 00:00:00|  2016-01-01 00:00:00|              1|         4.75|-73.99346923828125|40.718990325927734|         1|                 N|-73.96224212646484| 40.65733337402344|           2|       16.5|  0.0|    0.5|       0.0|         0.0|                  0.3|        17.3|\n",
            "|       2| 2016-01-01 00:00:00|  2016-01-01 00:00:00|              3|         1.76|-73.96062469482422| 40.78133010864258|         1|                 N|-73.97726440429688|40.758514404296875|           2|        8.0|  0.0|    0.5|       0.0|         0.0|                  0.3|         8.8|\n",
            "+--------+--------------------+---------------------+---------------+-------------+------------------+------------------+----------+------------------+------------------+------------------+------------+-----------+-----+-------+----------+------------+---------------------+------------+\n",
            "only showing top 5 rows\n",
            "\n"
          ]
        }
      ]
    },
    {
      "cell_type": "code",
      "source": [
        "df.printSchema()\n"
      ],
      "metadata": {
        "colab": {
          "base_uri": "https://localhost:8080/"
        },
        "id": "gHY4JGokcpfD",
        "outputId": "6cf57364-53d5-4aab-b049-6399e6e03115"
      },
      "execution_count": 9,
      "outputs": [
        {
          "output_type": "stream",
          "name": "stdout",
          "text": [
            "root\n",
            " |-- VendorID: integer (nullable = true)\n",
            " |-- tpep_pickup_datetime: timestamp (nullable = true)\n",
            " |-- tpep_dropoff_datetime: timestamp (nullable = true)\n",
            " |-- passenger_count: integer (nullable = true)\n",
            " |-- trip_distance: double (nullable = true)\n",
            " |-- pickup_longitude: double (nullable = true)\n",
            " |-- pickup_latitude: double (nullable = true)\n",
            " |-- RatecodeID: integer (nullable = true)\n",
            " |-- store_and_fwd_flag: string (nullable = true)\n",
            " |-- dropoff_longitude: double (nullable = true)\n",
            " |-- dropoff_latitude: double (nullable = true)\n",
            " |-- payment_type: integer (nullable = true)\n",
            " |-- fare_amount: double (nullable = true)\n",
            " |-- extra: double (nullable = true)\n",
            " |-- mta_tax: double (nullable = true)\n",
            " |-- tip_amount: double (nullable = true)\n",
            " |-- tolls_amount: double (nullable = true)\n",
            " |-- improvement_surcharge: double (nullable = true)\n",
            " |-- total_amount: double (nullable = true)\n",
            "\n"
          ]
        }
      ]
    },
    {
      "cell_type": "code",
      "source": [
        "row_count = df.count()\n",
        "print(f\"Total number of trips: {row_count}\")"
      ],
      "metadata": {
        "colab": {
          "base_uri": "https://localhost:8080/"
        },
        "id": "vDbji50Meh9h",
        "outputId": "0752d95a-524c-4808-899f-a8d2e7fc7faa"
      },
      "execution_count": 26,
      "outputs": [
        {
          "output_type": "stream",
          "name": "stdout",
          "text": [
            "Total number of trips: 10906858\n"
          ]
        }
      ]
    },
    {
      "cell_type": "markdown",
      "source": [
        "#  Average trip distance by pickup hour"
      ],
      "metadata": {
        "id": "MXZ9xj0Uh5iD"
      }
    },
    {
      "cell_type": "code",
      "source": [
        "\n",
        "df_with_hour = df.withColumn(\"pickup_hour\", hour(col(\"tpep_pickup_datetime\")))\n",
        "avg_distance_by_hour = df_with_hour.groupBy(\"pickup_hour\").avg(\"trip_distance\").orderBy(\"pickup_hour\")\n",
        "avg_distance_by_hour.show(24)"
      ],
      "metadata": {
        "colab": {
          "base_uri": "https://localhost:8080/"
        },
        "id": "Uu1CUfAoeu5j",
        "outputId": "85840c49-57fb-426e-a60e-edc244c53594"
      },
      "execution_count": 18,
      "outputs": [
        {
          "output_type": "stream",
          "name": "stdout",
          "text": [
            "+-----------+------------------+\n",
            "|pickup_hour|avg(trip_distance)|\n",
            "+-----------+------------------+\n",
            "|          0| 3.328650267401285|\n",
            "|          1| 3.247242986764335|\n",
            "|          2|3.2484838146758577|\n",
            "|          3|3.4685267545674927|\n",
            "|          4| 4.109216089043877|\n",
            "|          5| 4.603352816724641|\n",
            "|          6| 3.526673113628757|\n",
            "|          7|2.8310358234853608|\n",
            "|          8| 2.529338012205217|\n",
            "|          9| 2.522817470884903|\n",
            "|         10|12.339673500979927|\n",
            "|         11| 5.871557961930464|\n",
            "|         12|2.5972457354015446|\n",
            "|         13|2.7525329680351542|\n",
            "|         14| 21.45645973595721|\n",
            "|         15|2.8751887404654557|\n",
            "|         16|2.8934940079476843|\n",
            "|         17| 3.824401189309708|\n",
            "|         18| 2.576705789539844|\n",
            "|         19| 2.626591070816759|\n",
            "|         20| 2.904406535365733|\n",
            "|         21|3.0478349601585526|\n",
            "|         22| 6.080801514570257|\n",
            "|         23|3.3807939627779318|\n",
            "+-----------+------------------+\n",
            "\n"
          ]
        }
      ]
    },
    {
      "cell_type": "markdown",
      "source": [
        "#  Count trips by passenger count"
      ],
      "metadata": {
        "id": "MLr8navch2mT"
      }
    },
    {
      "cell_type": "code",
      "source": [
        "\n",
        "trips_by_passenger = df.groupBy(\"passenger_count\").count().orderBy(\"passenger_count\")\n",
        "trips_by_passenger.show()"
      ],
      "metadata": {
        "colab": {
          "base_uri": "https://localhost:8080/"
        },
        "id": "ew1KxtTPexni",
        "outputId": "54e2ad6b-6510-41fa-c7fc-64ffb467d222"
      },
      "execution_count": 19,
      "outputs": [
        {
          "output_type": "stream",
          "name": "stdout",
          "text": [
            "+---------------+-------+\n",
            "|passenger_count|  count|\n",
            "+---------------+-------+\n",
            "|              0|    520|\n",
            "|              1|7726984|\n",
            "|              2|1561977|\n",
            "|              3| 436431|\n",
            "|              4| 210641|\n",
            "|              5| 601079|\n",
            "|              6| 369155|\n",
            "|              7|     22|\n",
            "|              8|     26|\n",
            "|              9|     23|\n",
            "+---------------+-------+\n",
            "\n"
          ]
        }
      ]
    },
    {
      "cell_type": "markdown",
      "source": [
        "#  Average fare amount by payment type"
      ],
      "metadata": {
        "id": "KFAk-gqShy_k"
      }
    },
    {
      "cell_type": "code",
      "source": [
        "\n",
        "avg_fare_by_payment = df.groupBy(\"payment_type\").avg(\"fare_amount\").orderBy(\"payment_type\")\n",
        "avg_fare_by_payment.show()"
      ],
      "metadata": {
        "colab": {
          "base_uri": "https://localhost:8080/"
        },
        "id": "yUFcfuU9fFgd",
        "outputId": "d879910a-3480-4787-a781-e2ebbab27068"
      },
      "execution_count": 20,
      "outputs": [
        {
          "output_type": "stream",
          "name": "stdout",
          "text": [
            "+------------+------------------+\n",
            "|payment_type|  avg(fare_amount)|\n",
            "+------------+------------------+\n",
            "|           1|13.000073149307978|\n",
            "|           2|11.500276313672684|\n",
            "|           3|11.392890994023855|\n",
            "|           4|11.101148311087911|\n",
            "|           5|              10.0|\n",
            "+------------+------------------+\n",
            "\n"
          ]
        }
      ]
    },
    {
      "cell_type": "markdown",
      "source": [
        "# Revenue Impact of Extra Charges"
      ],
      "metadata": {
        "id": "JgPYgcrmhoaH"
      }
    },
    {
      "cell_type": "code",
      "source": [
        "from pyspark.sql.functions import sum as spark_sum\n",
        "revenue_breakdown = df.agg(\n",
        "    spark_sum(\"fare_amount\").alias(\"total_fare\"),\n",
        "    spark_sum(\"extra\").alias(\"total_extra\"),\n",
        "    spark_sum(\"mta_tax\").alias(\"total_mta_tax\"),\n",
        "    spark_sum(\"tolls_amount\").alias(\"total_tolls\"),\n",
        "    spark_sum(\"improvement_surcharge\").alias(\"total_surcharge\"),\n",
        "    spark_sum(\"total_amount\").alias(\"grand_total\")\n",
        ")\n",
        "revenue_breakdown.show()"
      ],
      "metadata": {
        "colab": {
          "base_uri": "https://localhost:8080/"
        },
        "id": "3eEYrKg9g0sO",
        "outputId": "d5fa8cb9-1b72-45cc-dd7a-5b1a9a228bbf"
      },
      "execution_count": 22,
      "outputs": [
        {
          "output_type": "stream",
          "name": "stdout",
          "text": [
            "+--------------------+-----------------+-------------+------------------+-----------------+--------------------+\n",
            "|          total_fare|      total_extra|total_mta_tax|       total_tolls|  total_surcharge|         grand_total|\n",
            "+--------------------+-----------------+-------------+------------------+-----------------+--------------------+\n",
            "|1.3619316658999982E8|3414672.090000001|   5428021.03|3199475.1200007726|3269052.129950934|1.7059847689100492E8|\n",
            "+--------------------+-----------------+-------------+------------------+-----------------+--------------------+\n",
            "\n"
          ]
        }
      ]
    },
    {
      "cell_type": "markdown",
      "source": [
        "# Tip Amount vs. Fare Amount Correlation"
      ],
      "metadata": {
        "id": "_Sirn0KyhUwM"
      }
    },
    {
      "cell_type": "code",
      "source": [
        "# Average tip amount by fare amount ranges (binning fares)\n",
        "from pyspark.sql.functions import when, col\n",
        "df_with_bins = df.withColumn(\"fare_bin\",\n",
        "                             when(col(\"fare_amount\") < 10, \"0-10\")\n",
        "                             .when(col(\"fare_amount\") < 20, \"10-20\")\n",
        "                             .when(col(\"fare_amount\") < 30, \"20-30\")\n",
        "                             .otherwise(\"30+\"))\n",
        "tip_by_fare = df_with_bins.groupBy(\"fare_bin\").avg(\"tip_amount\").orderBy(\"fare_bin\")\n",
        "tip_by_fare.show()"
      ],
      "metadata": {
        "colab": {
          "base_uri": "https://localhost:8080/"
        },
        "id": "cfRVJPuLfLwN",
        "outputId": "0f0ef042-5e80-458e-feb4-a9499fb74b43"
      },
      "execution_count": 25,
      "outputs": [
        {
          "output_type": "stream",
          "name": "stdout",
          "text": [
            "+--------+------------------+\n",
            "|fare_bin|   avg(tip_amount)|\n",
            "+--------+------------------+\n",
            "|    0-10|0.9652382087608522|\n",
            "|   10-20|1.8102988509274376|\n",
            "|   20-30|3.3707501651749965|\n",
            "|     30+| 6.249755560833871|\n",
            "+--------+------------------+\n",
            "\n"
          ]
        }
      ]
    },
    {
      "cell_type": "markdown",
      "source": [
        "# Payment Type Analysis"
      ],
      "metadata": {
        "id": "MEgx4a-tjRBx"
      }
    },
    {
      "cell_type": "code",
      "source": [
        "from pyspark.sql.functions import hour, count"
      ],
      "metadata": {
        "id": "vGuihFgqiu9p"
      },
      "execution_count": 27,
      "outputs": []
    },
    {
      "cell_type": "code",
      "source": [
        "df.groupBy(\"payment_type\").agg(count(\"*\").alias(\"payment_count\")) \\\n",
        "    .orderBy(col(\"payment_count\").desc()).show()\n"
      ],
      "metadata": {
        "colab": {
          "base_uri": "https://localhost:8080/"
        },
        "id": "SUZJXykGhd0a",
        "outputId": "c4fbd62d-5b6d-4da0-b993-e1eb34c5caa7"
      },
      "execution_count": 28,
      "outputs": [
        {
          "output_type": "stream",
          "name": "stdout",
          "text": [
            "+------------+-------------+\n",
            "|payment_type|payment_count|\n",
            "+------------+-------------+\n",
            "|           1|      7181476|\n",
            "|           2|      3673651|\n",
            "|           3|        38319|\n",
            "|           4|        13411|\n",
            "|           5|            1|\n",
            "+------------+-------------+\n",
            "\n"
          ]
        }
      ]
    },
    {
      "cell_type": "markdown",
      "source": [
        "#  Peak Travel Hours"
      ],
      "metadata": {
        "id": "Z7jzbTLXjegT"
      }
    },
    {
      "cell_type": "code",
      "source": [
        "# Extract hour from pickup time\n",
        "df = df.withColumn(\"pickup_hour\", hour(col(\"tpep_pickup_datetime\")))\n",
        "\n",
        "# Count trips per hour\n",
        "df.groupBy(\"pickup_hour\").agg(count(\"*\").alias(\"trip_count\")) \\\n",
        "    .orderBy(col(\"pickup_hour\")).show()"
      ],
      "metadata": {
        "colab": {
          "base_uri": "https://localhost:8080/"
        },
        "id": "OWGxWr1CiwF-",
        "outputId": "a2b3be41-47c4-40be-f370-091c3c8f0308"
      },
      "execution_count": 29,
      "outputs": [
        {
          "output_type": "stream",
          "name": "stdout",
          "text": [
            "+-----------+----------+\n",
            "|pickup_hour|trip_count|\n",
            "+-----------+----------+\n",
            "|          0|    396034|\n",
            "|          1|    300325|\n",
            "|          2|    229220|\n",
            "|          3|    169130|\n",
            "|          4|    125601|\n",
            "|          5|    111548|\n",
            "|          6|    236287|\n",
            "|          7|    404567|\n",
            "|          8|    491429|\n",
            "|          9|    491927|\n",
            "|         10|    480614|\n",
            "|         11|    502554|\n",
            "|         12|    535279|\n",
            "|         13|    531803|\n",
            "|         14|    562636|\n",
            "|         15|    564002|\n",
            "|         16|    511344|\n",
            "|         17|    591940|\n",
            "|         18|    692093|\n",
            "|         19|    682974|\n",
            "+-----------+----------+\n",
            "only showing top 20 rows\n",
            "\n"
          ]
        }
      ]
    }
  ]
}